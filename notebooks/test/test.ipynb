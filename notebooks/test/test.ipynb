{
 "cells": [
  {
   "cell_type": "code",
   "execution_count": 6,
   "metadata": {},
   "outputs": [
    {
     "name": "stdout",
     "output_type": "stream",
     "text": [
      "n=1000, pi=3.2\n",
      "n=10000, pi=3.1472\n",
      "n=100000, pi=3.13764\n",
      "n=1000000, pi=3.138728\n",
      "n=10000000, pi=3.1411512\n"
     ]
    }
   ],
   "source": [
    "# 蒙特卡罗实验\n",
    "import numpy as np\n",
    "\n",
    "for n in [1000, 10000, 100000, 1000000, 10000000]:\n",
    "    num = 0\n",
    "    for _ in range(0,n):\n",
    "        x = np.random.rand()\n",
    "        y = np.random.rand()\n",
    "        if x*x + y*y < 1:\n",
    "            num += 1\n",
    "    print(f'{n=}, pi={num/n*4}')"
   ]
  }
 ],
 "metadata": {
  "kernelspec": {
   "display_name": "Python 3",
   "language": "python",
   "name": "python3"
  },
  "language_info": {
   "codemirror_mode": {
    "name": "ipython",
    "version": 3
   },
   "file_extension": ".py",
   "mimetype": "text/x-python",
   "name": "python",
   "nbconvert_exporter": "python",
   "pygments_lexer": "ipython3",
   "version": "3.10.13"
  }
 },
 "nbformat": 4,
 "nbformat_minor": 2
}
