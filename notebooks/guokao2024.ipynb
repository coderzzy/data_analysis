{
 "cells": [
  {
   "cell_type": "code",
   "execution_count": 1,
   "metadata": {},
   "outputs": [],
   "source": [
    "import matplotlib.pyplot as plt\n",
    "import pandas as pd"
   ]
  },
  {
   "cell_type": "code",
   "execution_count": 2,
   "metadata": {},
   "outputs": [],
   "source": [
    "# %pip install openpyxl"
   ]
  },
  {
   "cell_type": "code",
   "execution_count": 39,
   "metadata": {},
   "outputs": [
    {
     "data": {
      "text/plain": [
       "(115640, 7)"
      ]
     },
     "execution_count": 39,
     "metadata": {},
     "output_type": "execute_result"
    }
   ],
   "source": [
    "df = pd.read_excel('../data/guokao2024.xlsx')\n",
    "df.shape"
   ]
  },
  {
   "cell_type": "code",
   "execution_count": 40,
   "metadata": {},
   "outputs": [
    {
     "data": {
      "text/html": [
       "<div>\n",
       "<style scoped>\n",
       "    .dataframe tbody tr th:only-of-type {\n",
       "        vertical-align: middle;\n",
       "    }\n",
       "\n",
       "    .dataframe tbody tr th {\n",
       "        vertical-align: top;\n",
       "    }\n",
       "\n",
       "    .dataframe thead th {\n",
       "        text-align: right;\n",
       "    }\n",
       "</style>\n",
       "<table border=\"1\" class=\"dataframe\">\n",
       "  <thead>\n",
       "    <tr style=\"text-align: right;\">\n",
       "      <th></th>\n",
       "      <th>准考证号</th>\n",
       "      <th>招录机关</th>\n",
       "      <th>部门代码</th>\n",
       "      <th>用人司局</th>\n",
       "      <th>招考职位</th>\n",
       "      <th>职位代码</th>\n",
       "      <th>最低面试分数</th>\n",
       "    </tr>\n",
       "  </thead>\n",
       "  <tbody>\n",
       "    <tr>\n",
       "      <th>0</th>\n",
       "      <td>2111021301304</td>\n",
       "      <td>中央办公厅</td>\n",
       "      <td>2000</td>\n",
       "      <td>警卫局</td>\n",
       "      <td>档案管理岗位一级主任科员及以下</td>\n",
       "      <td>100110001001</td>\n",
       "      <td>110.1</td>\n",
       "    </tr>\n",
       "    <tr>\n",
       "      <th>1</th>\n",
       "      <td>2111071000324</td>\n",
       "      <td>中央办公厅</td>\n",
       "      <td>2000</td>\n",
       "      <td>警卫局</td>\n",
       "      <td>档案管理岗位一级主任科员及以下</td>\n",
       "      <td>100110001001</td>\n",
       "      <td>110.1</td>\n",
       "    </tr>\n",
       "    <tr>\n",
       "      <th>2</th>\n",
       "      <td>2111071401708</td>\n",
       "      <td>中央办公厅</td>\n",
       "      <td>2000</td>\n",
       "      <td>警卫局</td>\n",
       "      <td>档案管理岗位一级主任科员及以下</td>\n",
       "      <td>100110001001</td>\n",
       "      <td>110.1</td>\n",
       "    </tr>\n",
       "    <tr>\n",
       "      <th>3</th>\n",
       "      <td>2142050200204</td>\n",
       "      <td>中央办公厅</td>\n",
       "      <td>2000</td>\n",
       "      <td>警卫局</td>\n",
       "      <td>档案管理岗位一级主任科员及以下</td>\n",
       "      <td>100110001001</td>\n",
       "      <td>110.1</td>\n",
       "    </tr>\n",
       "    <tr>\n",
       "      <th>4</th>\n",
       "      <td>2161010109521</td>\n",
       "      <td>中央办公厅</td>\n",
       "      <td>2000</td>\n",
       "      <td>警卫局</td>\n",
       "      <td>档案管理岗位一级主任科员及以下</td>\n",
       "      <td>100110001001</td>\n",
       "      <td>110.1</td>\n",
       "    </tr>\n",
       "    <tr>\n",
       "      <th>...</th>\n",
       "      <td>...</td>\n",
       "      <td>...</td>\n",
       "      <td>...</td>\n",
       "      <td>...</td>\n",
       "      <td>...</td>\n",
       "      <td>...</td>\n",
       "      <td>...</td>\n",
       "    </tr>\n",
       "    <tr>\n",
       "      <th>115635</th>\n",
       "      <td>191111011900629</td>\n",
       "      <td>国家数据局</td>\n",
       "      <td>191000</td>\n",
       "      <td>机关司局五</td>\n",
       "      <td>机关司局一级主任科员及以下</td>\n",
       "      <td>200110005002</td>\n",
       "      <td>106.4</td>\n",
       "    </tr>\n",
       "    <tr>\n",
       "      <th>115636</th>\n",
       "      <td>191111120500430</td>\n",
       "      <td>国家数据局</td>\n",
       "      <td>191000</td>\n",
       "      <td>机关司局五</td>\n",
       "      <td>机关司局一级主任科员及以下</td>\n",
       "      <td>200110005002</td>\n",
       "      <td>106.4</td>\n",
       "    </tr>\n",
       "    <tr>\n",
       "      <th>115637</th>\n",
       "      <td>191111120602408</td>\n",
       "      <td>国家数据局</td>\n",
       "      <td>191000</td>\n",
       "      <td>机关司局五</td>\n",
       "      <td>机关司局一级主任科员及以下</td>\n",
       "      <td>200110005002</td>\n",
       "      <td>106.4</td>\n",
       "    </tr>\n",
       "    <tr>\n",
       "      <th>115638</th>\n",
       "      <td>191137090100804</td>\n",
       "      <td>国家数据局</td>\n",
       "      <td>191000</td>\n",
       "      <td>机关司局五</td>\n",
       "      <td>机关司局一级主任科员及以下</td>\n",
       "      <td>200110005002</td>\n",
       "      <td>106.4</td>\n",
       "    </tr>\n",
       "    <tr>\n",
       "      <th>115639</th>\n",
       "      <td>191142011218917</td>\n",
       "      <td>国家数据局</td>\n",
       "      <td>191000</td>\n",
       "      <td>机关司局五</td>\n",
       "      <td>机关司局一级主任科员及以下</td>\n",
       "      <td>200110005002</td>\n",
       "      <td>106.4</td>\n",
       "    </tr>\n",
       "  </tbody>\n",
       "</table>\n",
       "<p>115640 rows × 7 columns</p>\n",
       "</div>"
      ],
      "text/plain": [
       "                   准考证号   招录机关    部门代码   用人司局             招考职位          职位代码  \\\n",
       "0         2111021301304  中央办公厅    2000    警卫局  档案管理岗位一级主任科员及以下  100110001001   \n",
       "1         2111071000324  中央办公厅    2000    警卫局  档案管理岗位一级主任科员及以下  100110001001   \n",
       "2         2111071401708  中央办公厅    2000    警卫局  档案管理岗位一级主任科员及以下  100110001001   \n",
       "3         2142050200204  中央办公厅    2000    警卫局  档案管理岗位一级主任科员及以下  100110001001   \n",
       "4         2161010109521  中央办公厅    2000    警卫局  档案管理岗位一级主任科员及以下  100110001001   \n",
       "...                 ...    ...     ...    ...              ...           ...   \n",
       "115635  191111011900629  国家数据局  191000  机关司局五    机关司局一级主任科员及以下  200110005002   \n",
       "115636  191111120500430  国家数据局  191000  机关司局五    机关司局一级主任科员及以下  200110005002   \n",
       "115637  191111120602408  国家数据局  191000  机关司局五    机关司局一级主任科员及以下  200110005002   \n",
       "115638  191137090100804  国家数据局  191000  机关司局五    机关司局一级主任科员及以下  200110005002   \n",
       "115639  191142011218917  国家数据局  191000  机关司局五    机关司局一级主任科员及以下  200110005002   \n",
       "\n",
       "        最低面试分数  \n",
       "0        110.1  \n",
       "1        110.1  \n",
       "2        110.1  \n",
       "3        110.1  \n",
       "4        110.1  \n",
       "...        ...  \n",
       "115635   106.4  \n",
       "115636   106.4  \n",
       "115637   106.4  \n",
       "115638   106.4  \n",
       "115639   106.4  \n",
       "\n",
       "[115640 rows x 7 columns]"
      ]
     },
     "execution_count": 40,
     "metadata": {},
     "output_type": "execute_result"
    }
   ],
   "source": [
    "df"
   ]
  },
  {
   "cell_type": "code",
   "execution_count": 44,
   "metadata": {},
   "outputs": [],
   "source": [
    "df['招录机关-用人司局-招考职位'] = df.apply(lambda row: f\"{row['招录机关']}_{row['用人司局']}_{row['招考职位']}\", axis=1)"
   ]
  },
  {
   "cell_type": "code",
   "execution_count": 47,
   "metadata": {},
   "outputs": [
    {
     "name": "stdout",
     "output_type": "stream",
     "text": [
      "职位代码去重后总数: 6493\n",
      "招录机关-用人司局-招考职位组合去重后总数: 16006\n"
     ]
    }
   ],
   "source": [
    "print(\"职位代码去重后总数: \" + str(df['职位代码'].nunique()))\n",
    "print(\"招录机关-用人司局-招考职位组合去重后总数: \" + str(df['招录机关-用人司局-招考职位'].nunique()))"
   ]
  },
  {
   "cell_type": "code",
   "execution_count": 48,
   "metadata": {},
   "outputs": [
    {
     "data": {
      "text/plain": [
       "count    115640.000000\n",
       "mean        112.478784\n",
       "std          23.569302\n",
       "min          45.250000\n",
       "25%         111.800000\n",
       "50%         120.600000\n",
       "75%         126.600000\n",
       "max         144.700000\n",
       "Name: 最低面试分数, dtype: float64"
      ]
     },
     "execution_count": 48,
     "metadata": {},
     "output_type": "execute_result"
    }
   ],
   "source": [
    "df['最低面试分数'].describe()"
   ]
  },
  {
   "cell_type": "markdown",
   "metadata": {},
   "source": [
    "## 进行分类，考专业课和不考专业课"
   ]
  },
  {
   "cell_type": "code",
   "execution_count": 49,
   "metadata": {},
   "outputs": [],
   "source": [
    "df_below_89 = df[df['最低面试分数'] < 89]\n",
    "df_above_89 = df[df['最低面试分数'] >= 89]"
   ]
  },
  {
   "cell_type": "code",
   "execution_count": 55,
   "metadata": {},
   "outputs": [
    {
     "name": "stdout",
     "output_type": "stream",
     "text": [
      "包含专业课的岗位总数: 1760\n",
      "不含专业课的岗位总数: 14246\n"
     ]
    }
   ],
   "source": [
    "print(\"包含专业课的岗位总数: \" + str(df_below_89['招录机关-用人司局-招考职位'].nunique()))\n",
    "print(\"不含专业课的岗位总数: \" + str(df_above_89['招录机关-用人司局-招考职位'].nunique()))"
   ]
  },
  {
   "cell_type": "code",
   "execution_count": null,
   "metadata": {},
   "outputs": [],
   "source": []
  },
  {
   "cell_type": "code",
   "execution_count": 50,
   "metadata": {},
   "outputs": [
    {
     "data": {
      "text/plain": [
       "count    16598.000000\n",
       "mean        58.278703\n",
       "std          4.996526\n",
       "min         45.250000\n",
       "25%         54.831250\n",
       "50%         58.472500\n",
       "75%         61.510000\n",
       "max         72.925000\n",
       "Name: 最低面试分数, dtype: float64"
      ]
     },
     "execution_count": 50,
     "metadata": {},
     "output_type": "execute_result"
    }
   ],
   "source": [
    "df_below_89['最低面试分数'].describe()"
   ]
  },
  {
   "cell_type": "code",
   "execution_count": 51,
   "metadata": {},
   "outputs": [
    {
     "data": {
      "text/plain": [
       "count    99042.00000\n",
       "mean       121.56193\n",
       "std          8.34317\n",
       "min         90.00000\n",
       "25%        116.60000\n",
       "50%        122.40000\n",
       "75%        127.50000\n",
       "max        144.70000\n",
       "Name: 最低面试分数, dtype: float64"
      ]
     },
     "execution_count": 51,
     "metadata": {},
     "output_type": "execute_result"
    }
   ],
   "source": [
    "df_above_89['最低面试分数'].describe()"
   ]
  },
  {
   "cell_type": "code",
   "execution_count": 34,
   "metadata": {},
   "outputs": [
    {
     "data": {
      "text/plain": [
       "10628               长江海事局\n",
       "11932               广西海事局\n",
       "12817          水利部海河水利委员会\n",
       "16802         中国人民银行安徽省分行\n",
       "23648              呼和浩特海关\n",
       "24194               哈尔滨海关\n",
       "35326        国家税务总局河北省税务局\n",
       "40095     国家税务总局内蒙古自治区税务局\n",
       "47001       国家税务总局黑龙江省税务局\n",
       "63678        国家税务总局江西省税务局\n",
       "75983        国家税务总局湖南省税务局\n",
       "102241        国家统计局江西调查总队\n",
       "103290        国家统计局四川调查总队\n",
       "104741           西藏自治区气象局\n",
       "104803             甘肃省气象局\n",
       "114426      国家矿山安全监察局内蒙古局\n",
       "114450       国家矿山安全监察局吉林局\n",
       "114484      国家矿山安全监察局黑龙江局\n",
       "114787       国家矿山安全监察局甘肃局\n",
       "Name: 招录机关, dtype: object"
      ]
     },
     "execution_count": 34,
     "metadata": {},
     "output_type": "execute_result"
    }
   ],
   "source": [
    "df[(df['最低面试分数'] >= 90) & (df['最低面试分数'] <= 91)]['招录机关'].drop_duplicates()"
   ]
  }
 ],
 "metadata": {
  "kernelspec": {
   "display_name": "Python 3",
   "language": "python",
   "name": "python3"
  },
  "language_info": {
   "codemirror_mode": {
    "name": "ipython",
    "version": 3
   },
   "file_extension": ".py",
   "mimetype": "text/x-python",
   "name": "python",
   "nbconvert_exporter": "python",
   "pygments_lexer": "ipython3",
   "version": "3.10.13"
  }
 },
 "nbformat": 4,
 "nbformat_minor": 2
}
