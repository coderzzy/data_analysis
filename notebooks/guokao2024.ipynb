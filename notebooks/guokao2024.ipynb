{
 "cells": [
  {
   "cell_type": "code",
   "execution_count": 43,
   "metadata": {},
   "outputs": [
    {
     "name": "stdout",
     "output_type": "stream",
     "text": [
      "Collecting fuzzywuzzy\n",
      "  Downloading fuzzywuzzy-0.18.0-py2.py3-none-any.whl (18 kB)\n",
      "Installing collected packages: fuzzywuzzy\n",
      "Successfully installed fuzzywuzzy-0.18.0\n",
      "Note: you may need to restart the kernel to use updated packages.\n"
     ]
    }
   ],
   "source": [
    "# %pip install openpyxl\n",
    "# %pip install geopandas\n",
    "# %pip install fuzzywuzzy"
   ]
  },
  {
   "cell_type": "code",
   "execution_count": 44,
   "metadata": {},
   "outputs": [
    {
     "name": "stderr",
     "output_type": "stream",
     "text": [
      "/home/codespace/.python/current/lib/python3.10/site-packages/fuzzywuzzy/fuzz.py:11: UserWarning: Using slow pure-python SequenceMatcher. Install python-Levenshtein to remove this warning\n",
      "  warnings.warn('Using slow pure-python SequenceMatcher. Install python-Levenshtein to remove this warning')\n"
     ]
    }
   ],
   "source": [
    "import matplotlib.pyplot as plt\n",
    "import geopandas as gpd\n",
    "import pandas as pd\n",
    "from fuzzywuzzy import process"
   ]
  },
  {
   "cell_type": "code",
   "execution_count": 2,
   "metadata": {},
   "outputs": [
    {
     "data": {
      "text/plain": [
       "(115640, 7)"
      ]
     },
     "execution_count": 2,
     "metadata": {},
     "output_type": "execute_result"
    }
   ],
   "source": [
    "df = pd.read_excel('../data/guokao2024.xlsx')\n",
    "df.shape"
   ]
  },
  {
   "cell_type": "code",
   "execution_count": 3,
   "metadata": {},
   "outputs": [
    {
     "data": {
      "text/html": [
       "<div>\n",
       "<style scoped>\n",
       "    .dataframe tbody tr th:only-of-type {\n",
       "        vertical-align: middle;\n",
       "    }\n",
       "\n",
       "    .dataframe tbody tr th {\n",
       "        vertical-align: top;\n",
       "    }\n",
       "\n",
       "    .dataframe thead th {\n",
       "        text-align: right;\n",
       "    }\n",
       "</style>\n",
       "<table border=\"1\" class=\"dataframe\">\n",
       "  <thead>\n",
       "    <tr style=\"text-align: right;\">\n",
       "      <th></th>\n",
       "      <th>准考证号</th>\n",
       "      <th>招录机关</th>\n",
       "      <th>部门代码</th>\n",
       "      <th>用人司局</th>\n",
       "      <th>招考职位</th>\n",
       "      <th>职位代码</th>\n",
       "      <th>最低面试分数</th>\n",
       "    </tr>\n",
       "  </thead>\n",
       "  <tbody>\n",
       "    <tr>\n",
       "      <th>0</th>\n",
       "      <td>2111021301304</td>\n",
       "      <td>中央办公厅</td>\n",
       "      <td>2000</td>\n",
       "      <td>警卫局</td>\n",
       "      <td>档案管理岗位一级主任科员及以下</td>\n",
       "      <td>100110001001</td>\n",
       "      <td>110.1</td>\n",
       "    </tr>\n",
       "    <tr>\n",
       "      <th>1</th>\n",
       "      <td>2111071000324</td>\n",
       "      <td>中央办公厅</td>\n",
       "      <td>2000</td>\n",
       "      <td>警卫局</td>\n",
       "      <td>档案管理岗位一级主任科员及以下</td>\n",
       "      <td>100110001001</td>\n",
       "      <td>110.1</td>\n",
       "    </tr>\n",
       "    <tr>\n",
       "      <th>2</th>\n",
       "      <td>2111071401708</td>\n",
       "      <td>中央办公厅</td>\n",
       "      <td>2000</td>\n",
       "      <td>警卫局</td>\n",
       "      <td>档案管理岗位一级主任科员及以下</td>\n",
       "      <td>100110001001</td>\n",
       "      <td>110.1</td>\n",
       "    </tr>\n",
       "    <tr>\n",
       "      <th>3</th>\n",
       "      <td>2142050200204</td>\n",
       "      <td>中央办公厅</td>\n",
       "      <td>2000</td>\n",
       "      <td>警卫局</td>\n",
       "      <td>档案管理岗位一级主任科员及以下</td>\n",
       "      <td>100110001001</td>\n",
       "      <td>110.1</td>\n",
       "    </tr>\n",
       "    <tr>\n",
       "      <th>4</th>\n",
       "      <td>2161010109521</td>\n",
       "      <td>中央办公厅</td>\n",
       "      <td>2000</td>\n",
       "      <td>警卫局</td>\n",
       "      <td>档案管理岗位一级主任科员及以下</td>\n",
       "      <td>100110001001</td>\n",
       "      <td>110.1</td>\n",
       "    </tr>\n",
       "    <tr>\n",
       "      <th>...</th>\n",
       "      <td>...</td>\n",
       "      <td>...</td>\n",
       "      <td>...</td>\n",
       "      <td>...</td>\n",
       "      <td>...</td>\n",
       "      <td>...</td>\n",
       "      <td>...</td>\n",
       "    </tr>\n",
       "    <tr>\n",
       "      <th>115635</th>\n",
       "      <td>191111011900629</td>\n",
       "      <td>国家数据局</td>\n",
       "      <td>191000</td>\n",
       "      <td>机关司局五</td>\n",
       "      <td>机关司局一级主任科员及以下</td>\n",
       "      <td>200110005002</td>\n",
       "      <td>106.4</td>\n",
       "    </tr>\n",
       "    <tr>\n",
       "      <th>115636</th>\n",
       "      <td>191111120500430</td>\n",
       "      <td>国家数据局</td>\n",
       "      <td>191000</td>\n",
       "      <td>机关司局五</td>\n",
       "      <td>机关司局一级主任科员及以下</td>\n",
       "      <td>200110005002</td>\n",
       "      <td>106.4</td>\n",
       "    </tr>\n",
       "    <tr>\n",
       "      <th>115637</th>\n",
       "      <td>191111120602408</td>\n",
       "      <td>国家数据局</td>\n",
       "      <td>191000</td>\n",
       "      <td>机关司局五</td>\n",
       "      <td>机关司局一级主任科员及以下</td>\n",
       "      <td>200110005002</td>\n",
       "      <td>106.4</td>\n",
       "    </tr>\n",
       "    <tr>\n",
       "      <th>115638</th>\n",
       "      <td>191137090100804</td>\n",
       "      <td>国家数据局</td>\n",
       "      <td>191000</td>\n",
       "      <td>机关司局五</td>\n",
       "      <td>机关司局一级主任科员及以下</td>\n",
       "      <td>200110005002</td>\n",
       "      <td>106.4</td>\n",
       "    </tr>\n",
       "    <tr>\n",
       "      <th>115639</th>\n",
       "      <td>191142011218917</td>\n",
       "      <td>国家数据局</td>\n",
       "      <td>191000</td>\n",
       "      <td>机关司局五</td>\n",
       "      <td>机关司局一级主任科员及以下</td>\n",
       "      <td>200110005002</td>\n",
       "      <td>106.4</td>\n",
       "    </tr>\n",
       "  </tbody>\n",
       "</table>\n",
       "<p>115640 rows × 7 columns</p>\n",
       "</div>"
      ],
      "text/plain": [
       "                   准考证号   招录机关    部门代码   用人司局             招考职位          职位代码  \\\n",
       "0         2111021301304  中央办公厅    2000    警卫局  档案管理岗位一级主任科员及以下  100110001001   \n",
       "1         2111071000324  中央办公厅    2000    警卫局  档案管理岗位一级主任科员及以下  100110001001   \n",
       "2         2111071401708  中央办公厅    2000    警卫局  档案管理岗位一级主任科员及以下  100110001001   \n",
       "3         2142050200204  中央办公厅    2000    警卫局  档案管理岗位一级主任科员及以下  100110001001   \n",
       "4         2161010109521  中央办公厅    2000    警卫局  档案管理岗位一级主任科员及以下  100110001001   \n",
       "...                 ...    ...     ...    ...              ...           ...   \n",
       "115635  191111011900629  国家数据局  191000  机关司局五    机关司局一级主任科员及以下  200110005002   \n",
       "115636  191111120500430  国家数据局  191000  机关司局五    机关司局一级主任科员及以下  200110005002   \n",
       "115637  191111120602408  国家数据局  191000  机关司局五    机关司局一级主任科员及以下  200110005002   \n",
       "115638  191137090100804  国家数据局  191000  机关司局五    机关司局一级主任科员及以下  200110005002   \n",
       "115639  191142011218917  国家数据局  191000  机关司局五    机关司局一级主任科员及以下  200110005002   \n",
       "\n",
       "        最低面试分数  \n",
       "0        110.1  \n",
       "1        110.1  \n",
       "2        110.1  \n",
       "3        110.1  \n",
       "4        110.1  \n",
       "...        ...  \n",
       "115635   106.4  \n",
       "115636   106.4  \n",
       "115637   106.4  \n",
       "115638   106.4  \n",
       "115639   106.4  \n",
       "\n",
       "[115640 rows x 7 columns]"
      ]
     },
     "execution_count": 3,
     "metadata": {},
     "output_type": "execute_result"
    }
   ],
   "source": [
    "df"
   ]
  },
  {
   "cell_type": "markdown",
   "metadata": {},
   "source": [
    "## 总体概况"
   ]
  },
  {
   "cell_type": "code",
   "execution_count": 4,
   "metadata": {},
   "outputs": [],
   "source": [
    "df['招录机关-用人司局-招考职位'] = df.apply(lambda row: f\"{row['招录机关']}_{row['用人司局']}_{row['招考职位']}\", axis=1)"
   ]
  },
  {
   "cell_type": "code",
   "execution_count": 5,
   "metadata": {},
   "outputs": [
    {
     "name": "stdout",
     "output_type": "stream",
     "text": [
      "职位代码去重后总数: 6493\n",
      "招录机关-用人司局-招考职位组合去重后总数: 16006\n"
     ]
    }
   ],
   "source": [
    "print(\"职位代码去重后总数: \" + str(df['职位代码'].nunique()))\n",
    "print(\"招录机关-用人司局-招考职位组合去重后总数: \" + str(df['招录机关-用人司局-招考职位'].nunique()))"
   ]
  },
  {
   "cell_type": "code",
   "execution_count": 6,
   "metadata": {},
   "outputs": [
    {
     "data": {
      "text/plain": [
       "count    115640.000000\n",
       "mean        112.478784\n",
       "std          23.569302\n",
       "min          45.250000\n",
       "25%         111.800000\n",
       "50%         120.600000\n",
       "75%         126.600000\n",
       "max         144.700000\n",
       "Name: 最低面试分数, dtype: float64"
      ]
     },
     "execution_count": 6,
     "metadata": {},
     "output_type": "execute_result"
    }
   ],
   "source": [
    "df['最低面试分数'].describe()"
   ]
  },
  {
   "cell_type": "markdown",
   "metadata": {},
   "source": [
    "## 进行分类，考专业课和不考专业课"
   ]
  },
  {
   "cell_type": "code",
   "execution_count": 8,
   "metadata": {},
   "outputs": [],
   "source": [
    "df_below_89 = df[df['最低面试分数'] < 89]\n",
    "df_above_89 = df[df['最低面试分数'] >= 89]"
   ]
  },
  {
   "cell_type": "code",
   "execution_count": 9,
   "metadata": {},
   "outputs": [
    {
     "name": "stdout",
     "output_type": "stream",
     "text": [
      "包含专业课的岗位总数: 1760\n",
      "不含专业课的岗位总数: 14246\n"
     ]
    }
   ],
   "source": [
    "print(\"包含专业课的岗位总数: \" + str(df_below_89['招录机关-用人司局-招考职位'].nunique()))\n",
    "print(\"不含专业课的岗位总数: \" + str(df_above_89['招录机关-用人司局-招考职位'].nunique()))"
   ]
  },
  {
   "cell_type": "code",
   "execution_count": 10,
   "metadata": {},
   "outputs": [
    {
     "data": {
      "text/plain": [
       "count    16598.000000\n",
       "mean        58.278703\n",
       "std          4.996526\n",
       "min         45.250000\n",
       "25%         54.831250\n",
       "50%         58.472500\n",
       "75%         61.510000\n",
       "max         72.925000\n",
       "Name: 最低面试分数, dtype: float64"
      ]
     },
     "execution_count": 10,
     "metadata": {},
     "output_type": "execute_result"
    }
   ],
   "source": [
    "df_below_89['最低面试分数'].describe()"
   ]
  },
  {
   "cell_type": "code",
   "execution_count": 11,
   "metadata": {},
   "outputs": [
    {
     "data": {
      "text/plain": [
       "count    99042.00000\n",
       "mean       121.56193\n",
       "std          8.34317\n",
       "min         90.00000\n",
       "25%        116.60000\n",
       "50%        122.40000\n",
       "75%        127.50000\n",
       "max        144.70000\n",
       "Name: 最低面试分数, dtype: float64"
      ]
     },
     "execution_count": 11,
     "metadata": {},
     "output_type": "execute_result"
    }
   ],
   "source": [
    "df_above_89['最低面试分数'].describe()"
   ]
  },
  {
   "cell_type": "markdown",
   "metadata": {},
   "source": [
    "## 包含专业课的岗位分析"
   ]
  },
  {
   "cell_type": "code",
   "execution_count": 12,
   "metadata": {},
   "outputs": [
    {
     "data": {
      "text/html": [
       "<div>\n",
       "<style scoped>\n",
       "    .dataframe tbody tr th:only-of-type {\n",
       "        vertical-align: middle;\n",
       "    }\n",
       "\n",
       "    .dataframe tbody tr th {\n",
       "        vertical-align: top;\n",
       "    }\n",
       "\n",
       "    .dataframe thead th {\n",
       "        text-align: right;\n",
       "    }\n",
       "</style>\n",
       "<table border=\"1\" class=\"dataframe\">\n",
       "  <thead>\n",
       "    <tr style=\"text-align: right;\">\n",
       "      <th></th>\n",
       "      <th>准考证号</th>\n",
       "      <th>招录机关</th>\n",
       "      <th>部门代码</th>\n",
       "      <th>用人司局</th>\n",
       "      <th>招考职位</th>\n",
       "      <th>职位代码</th>\n",
       "      <th>最低面试分数</th>\n",
       "      <th>招录机关-用人司局-招考职位</th>\n",
       "    </tr>\n",
       "  </thead>\n",
       "  <tbody>\n",
       "    <tr>\n",
       "      <th>407</th>\n",
       "      <td>9111050900114</td>\n",
       "      <td>中央对外联络部</td>\n",
       "      <td>9000</td>\n",
       "      <td>三局</td>\n",
       "      <td>阿拉伯语翻译</td>\n",
       "      <td>100121004001</td>\n",
       "      <td>65.975</td>\n",
       "      <td>中央对外联络部_三局_阿拉伯语翻译</td>\n",
       "    </tr>\n",
       "    <tr>\n",
       "      <th>408</th>\n",
       "      <td>9111050900116</td>\n",
       "      <td>中央对外联络部</td>\n",
       "      <td>9000</td>\n",
       "      <td>三局</td>\n",
       "      <td>阿拉伯语翻译</td>\n",
       "      <td>100121004001</td>\n",
       "      <td>65.975</td>\n",
       "      <td>中央对外联络部_三局_阿拉伯语翻译</td>\n",
       "    </tr>\n",
       "    <tr>\n",
       "      <th>409</th>\n",
       "      <td>9111050900119</td>\n",
       "      <td>中央对外联络部</td>\n",
       "      <td>9000</td>\n",
       "      <td>三局</td>\n",
       "      <td>阿拉伯语翻译</td>\n",
       "      <td>100121004001</td>\n",
       "      <td>65.975</td>\n",
       "      <td>中央对外联络部_三局_阿拉伯语翻译</td>\n",
       "    </tr>\n",
       "    <tr>\n",
       "      <th>410</th>\n",
       "      <td>9111050900121</td>\n",
       "      <td>中央对外联络部</td>\n",
       "      <td>9000</td>\n",
       "      <td>三局</td>\n",
       "      <td>阿拉伯语翻译</td>\n",
       "      <td>100121004001</td>\n",
       "      <td>65.975</td>\n",
       "      <td>中央对外联络部_三局_阿拉伯语翻译</td>\n",
       "    </tr>\n",
       "    <tr>\n",
       "      <th>411</th>\n",
       "      <td>9111050900125</td>\n",
       "      <td>中央对外联络部</td>\n",
       "      <td>9000</td>\n",
       "      <td>三局</td>\n",
       "      <td>阿拉伯语翻译</td>\n",
       "      <td>100121004001</td>\n",
       "      <td>65.975</td>\n",
       "      <td>中央对外联络部_三局_阿拉伯语翻译</td>\n",
       "    </tr>\n",
       "    <tr>\n",
       "      <th>...</th>\n",
       "      <td>...</td>\n",
       "      <td>...</td>\n",
       "      <td>...</td>\n",
       "      <td>...</td>\n",
       "      <td>...</td>\n",
       "      <td>...</td>\n",
       "      <td>...</td>\n",
       "      <td>...</td>\n",
       "    </tr>\n",
       "    <tr>\n",
       "      <th>113703</th>\n",
       "      <td>164353012307105</td>\n",
       "      <td>国家移民管理局瑞丽遣返中心</td>\n",
       "      <td>164207</td>\n",
       "      <td>国家移民管理局瑞丽遣返中心</td>\n",
       "      <td>昆明遣返站执行五队一级警长及以下（二）</td>\n",
       "      <td>300130001022</td>\n",
       "      <td>57.190</td>\n",
       "      <td>国家移民管理局瑞丽遣返中心_国家移民管理局瑞丽遣返中心_昆明遣返站执行五队一级警长及以下（二）</td>\n",
       "    </tr>\n",
       "    <tr>\n",
       "      <th>113704</th>\n",
       "      <td>164353012407602</td>\n",
       "      <td>国家移民管理局瑞丽遣返中心</td>\n",
       "      <td>164207</td>\n",
       "      <td>国家移民管理局瑞丽遣返中心</td>\n",
       "      <td>昆明遣返站执行五队一级警长及以下（二）</td>\n",
       "      <td>300130001022</td>\n",
       "      <td>57.190</td>\n",
       "      <td>国家移民管理局瑞丽遣返中心_国家移民管理局瑞丽遣返中心_昆明遣返站执行五队一级警长及以下（二）</td>\n",
       "    </tr>\n",
       "    <tr>\n",
       "      <th>113705</th>\n",
       "      <td>164321010701207</td>\n",
       "      <td>国家移民管理局瑞丽遣返中心</td>\n",
       "      <td>164207</td>\n",
       "      <td>国家移民管理局瑞丽遣返中心</td>\n",
       "      <td>昆明遣返站执行五队一级警长及以下（三）</td>\n",
       "      <td>300130001023</td>\n",
       "      <td>56.560</td>\n",
       "      <td>国家移民管理局瑞丽遣返中心_国家移民管理局瑞丽遣返中心_昆明遣返站执行五队一级警长及以下（三）</td>\n",
       "    </tr>\n",
       "    <tr>\n",
       "      <th>113706</th>\n",
       "      <td>164333010108101</td>\n",
       "      <td>国家移民管理局瑞丽遣返中心</td>\n",
       "      <td>164207</td>\n",
       "      <td>国家移民管理局瑞丽遣返中心</td>\n",
       "      <td>昆明遣返站执行五队一级警长及以下（三）</td>\n",
       "      <td>300130001023</td>\n",
       "      <td>56.560</td>\n",
       "      <td>国家移民管理局瑞丽遣返中心_国家移民管理局瑞丽遣返中心_昆明遣返站执行五队一级警长及以下（三）</td>\n",
       "    </tr>\n",
       "    <tr>\n",
       "      <th>113707</th>\n",
       "      <td>164353010203116</td>\n",
       "      <td>国家移民管理局瑞丽遣返中心</td>\n",
       "      <td>164207</td>\n",
       "      <td>国家移民管理局瑞丽遣返中心</td>\n",
       "      <td>昆明遣返站执行五队一级警长及以下（三）</td>\n",
       "      <td>300130001023</td>\n",
       "      <td>56.560</td>\n",
       "      <td>国家移民管理局瑞丽遣返中心_国家移民管理局瑞丽遣返中心_昆明遣返站执行五队一级警长及以下（三）</td>\n",
       "    </tr>\n",
       "  </tbody>\n",
       "</table>\n",
       "<p>16598 rows × 8 columns</p>\n",
       "</div>"
      ],
      "text/plain": [
       "                   准考证号           招录机关    部门代码           用人司局  \\\n",
       "407       9111050900114        中央对外联络部    9000             三局   \n",
       "408       9111050900116        中央对外联络部    9000             三局   \n",
       "409       9111050900119        中央对外联络部    9000             三局   \n",
       "410       9111050900121        中央对外联络部    9000             三局   \n",
       "411       9111050900125        中央对外联络部    9000             三局   \n",
       "...                 ...            ...     ...            ...   \n",
       "113703  164353012307105  国家移民管理局瑞丽遣返中心  164207  国家移民管理局瑞丽遣返中心   \n",
       "113704  164353012407602  国家移民管理局瑞丽遣返中心  164207  国家移民管理局瑞丽遣返中心   \n",
       "113705  164321010701207  国家移民管理局瑞丽遣返中心  164207  国家移民管理局瑞丽遣返中心   \n",
       "113706  164333010108101  国家移民管理局瑞丽遣返中心  164207  国家移民管理局瑞丽遣返中心   \n",
       "113707  164353010203116  国家移民管理局瑞丽遣返中心  164207  国家移民管理局瑞丽遣返中心   \n",
       "\n",
       "                       招考职位          职位代码  最低面试分数  \\\n",
       "407                  阿拉伯语翻译  100121004001  65.975   \n",
       "408                  阿拉伯语翻译  100121004001  65.975   \n",
       "409                  阿拉伯语翻译  100121004001  65.975   \n",
       "410                  阿拉伯语翻译  100121004001  65.975   \n",
       "411                  阿拉伯语翻译  100121004001  65.975   \n",
       "...                     ...           ...     ...   \n",
       "113703  昆明遣返站执行五队一级警长及以下（二）  300130001022  57.190   \n",
       "113704  昆明遣返站执行五队一级警长及以下（二）  300130001022  57.190   \n",
       "113705  昆明遣返站执行五队一级警长及以下（三）  300130001023  56.560   \n",
       "113706  昆明遣返站执行五队一级警长及以下（三）  300130001023  56.560   \n",
       "113707  昆明遣返站执行五队一级警长及以下（三）  300130001023  56.560   \n",
       "\n",
       "                                         招录机关-用人司局-招考职位  \n",
       "407                                   中央对外联络部_三局_阿拉伯语翻译  \n",
       "408                                   中央对外联络部_三局_阿拉伯语翻译  \n",
       "409                                   中央对外联络部_三局_阿拉伯语翻译  \n",
       "410                                   中央对外联络部_三局_阿拉伯语翻译  \n",
       "411                                   中央对外联络部_三局_阿拉伯语翻译  \n",
       "...                                                 ...  \n",
       "113703  国家移民管理局瑞丽遣返中心_国家移民管理局瑞丽遣返中心_昆明遣返站执行五队一级警长及以下（二）  \n",
       "113704  国家移民管理局瑞丽遣返中心_国家移民管理局瑞丽遣返中心_昆明遣返站执行五队一级警长及以下（二）  \n",
       "113705  国家移民管理局瑞丽遣返中心_国家移民管理局瑞丽遣返中心_昆明遣返站执行五队一级警长及以下（三）  \n",
       "113706  国家移民管理局瑞丽遣返中心_国家移民管理局瑞丽遣返中心_昆明遣返站执行五队一级警长及以下（三）  \n",
       "113707  国家移民管理局瑞丽遣返中心_国家移民管理局瑞丽遣返中心_昆明遣返站执行五队一级警长及以下（三）  \n",
       "\n",
       "[16598 rows x 8 columns]"
      ]
     },
     "execution_count": 12,
     "metadata": {},
     "output_type": "execute_result"
    }
   ],
   "source": [
    "df_below_89"
   ]
  },
  {
   "cell_type": "code",
   "execution_count": 18,
   "metadata": {},
   "outputs": [
    {
     "data": {
      "text/html": [
       "<div>\n",
       "<style scoped>\n",
       "    .dataframe tbody tr th:only-of-type {\n",
       "        vertical-align: middle;\n",
       "    }\n",
       "\n",
       "    .dataframe tbody tr th {\n",
       "        vertical-align: top;\n",
       "    }\n",
       "\n",
       "    .dataframe thead th {\n",
       "        text-align: right;\n",
       "    }\n",
       "</style>\n",
       "<table border=\"1\" class=\"dataframe\">\n",
       "  <thead>\n",
       "    <tr style=\"text-align: right;\">\n",
       "      <th></th>\n",
       "      <th>招录机关-用人司局-招考职位</th>\n",
       "      <th>最低面试分数</th>\n",
       "    </tr>\n",
       "  </thead>\n",
       "  <tbody>\n",
       "    <tr>\n",
       "      <th>104931</th>\n",
       "      <td>国家金融监督管理总局_经济金融岗二_一级主任科员及以下</td>\n",
       "      <td>72.925</td>\n",
       "    </tr>\n",
       "    <tr>\n",
       "      <th>105030</th>\n",
       "      <td>国家金融监督管理总局天津监管局_国家金融监督管理总局天津监管局_监管部门一级主任科员及以下</td>\n",
       "      <td>72.825</td>\n",
       "    </tr>\n",
       "    <tr>\n",
       "      <th>106769</th>\n",
       "      <td>国家金融监督管理总局山东监管局_国家金融监督管理总局莱芜监管分局_监管部门一级主任科员及以下</td>\n",
       "      <td>72.525</td>\n",
       "    </tr>\n",
       "    <tr>\n",
       "      <th>13312</th>\n",
       "      <td>商务部_离退休干部局_一级主任科员及以下（法语）</td>\n",
       "      <td>72.300</td>\n",
       "    </tr>\n",
       "    <tr>\n",
       "      <th>106039</th>\n",
       "      <td>国家金融监督管理总局江苏监管局_国家金融监督管理总局江苏监管局_监管部门一级主任科员及以下</td>\n",
       "      <td>72.300</td>\n",
       "    </tr>\n",
       "    <tr>\n",
       "      <th>108714</th>\n",
       "      <td>国家金融监督管理总局陕西监管局_国家金融监督管理总局陕西监管局_监管部门一级主任科员及以下</td>\n",
       "      <td>72.175</td>\n",
       "    </tr>\n",
       "    <tr>\n",
       "      <th>105845</th>\n",
       "      <td>国家金融监督管理总局黑龙江监管局_国家金融监督管理总局黑龙江监管局_监管部门一级主任科员及以下</td>\n",
       "      <td>71.750</td>\n",
       "    </tr>\n",
       "    <tr>\n",
       "      <th>106072</th>\n",
       "      <td>国家金融监督管理总局江苏监管局_国家金融监督管理总局苏州监管分局_监管部门一级主任科员及以下</td>\n",
       "      <td>71.725</td>\n",
       "    </tr>\n",
       "    <tr>\n",
       "      <th>106064</th>\n",
       "      <td>国家金融监督管理总局江苏监管局_国家金融监督管理总局常州监管分局_监管部门一级主任科员及以下</td>\n",
       "      <td>71.650</td>\n",
       "    </tr>\n",
       "    <tr>\n",
       "      <th>106601</th>\n",
       "      <td>国家金融监督管理总局江西监管局_国家金融监督管理总局江西监管局南昌县级派出机构_监管部门一级...</td>\n",
       "      <td>71.625</td>\n",
       "    </tr>\n",
       "  </tbody>\n",
       "</table>\n",
       "</div>"
      ],
      "text/plain": [
       "                                           招录机关-用人司局-招考职位  最低面试分数\n",
       "104931                        国家金融监督管理总局_经济金融岗二_一级主任科员及以下  72.925\n",
       "105030      国家金融监督管理总局天津监管局_国家金融监督管理总局天津监管局_监管部门一级主任科员及以下  72.825\n",
       "106769     国家金融监督管理总局山东监管局_国家金融监督管理总局莱芜监管分局_监管部门一级主任科员及以下  72.525\n",
       "13312                            商务部_离退休干部局_一级主任科员及以下（法语）  72.300\n",
       "106039      国家金融监督管理总局江苏监管局_国家金融监督管理总局江苏监管局_监管部门一级主任科员及以下  72.300\n",
       "108714      国家金融监督管理总局陕西监管局_国家金融监督管理总局陕西监管局_监管部门一级主任科员及以下  72.175\n",
       "105845    国家金融监督管理总局黑龙江监管局_国家金融监督管理总局黑龙江监管局_监管部门一级主任科员及以下  71.750\n",
       "106072     国家金融监督管理总局江苏监管局_国家金融监督管理总局苏州监管分局_监管部门一级主任科员及以下  71.725\n",
       "106064     国家金融监督管理总局江苏监管局_国家金融监督管理总局常州监管分局_监管部门一级主任科员及以下  71.650\n",
       "106601  国家金融监督管理总局江西监管局_国家金融监督管理总局江西监管局南昌县级派出机构_监管部门一级...  71.625"
      ]
     },
     "execution_count": 18,
     "metadata": {},
     "output_type": "execute_result"
    }
   ],
   "source": [
    "# 取分数最高的10个岗位\n",
    "# 先排序，再分组，第一个head取每个组里的topN，第二个head取整个组的topN\n",
    "df_below_89[['招录机关-用人司局-招考职位','最低面试分数']]\\\n",
    "    .sort_values(by='最低面试分数', ascending=False)\\\n",
    "    .groupby('招录机关-用人司局-招考职位')\\\n",
    "    .head(1)\\\n",
    "    .head(10)"
   ]
  },
  {
   "cell_type": "code",
   "execution_count": 19,
   "metadata": {},
   "outputs": [
    {
     "data": {
      "text/html": [
       "<div>\n",
       "<style scoped>\n",
       "    .dataframe tbody tr th:only-of-type {\n",
       "        vertical-align: middle;\n",
       "    }\n",
       "\n",
       "    .dataframe tbody tr th {\n",
       "        vertical-align: top;\n",
       "    }\n",
       "\n",
       "    .dataframe thead th {\n",
       "        text-align: right;\n",
       "    }\n",
       "</style>\n",
       "<table border=\"1\" class=\"dataframe\">\n",
       "  <thead>\n",
       "    <tr style=\"text-align: right;\">\n",
       "      <th></th>\n",
       "      <th>招录机关-用人司局-招考职位</th>\n",
       "      <th>最低面试分数</th>\n",
       "    </tr>\n",
       "  </thead>\n",
       "  <tbody>\n",
       "    <tr>\n",
       "      <th>108610</th>\n",
       "      <td>国家金融监督管理总局云南监管局_国家金融监督管理总局大理监管分局_财会部门一级主任科员及以下</td>\n",
       "      <td>45.250</td>\n",
       "    </tr>\n",
       "    <tr>\n",
       "      <th>7395</th>\n",
       "      <td>南宁铁路公安局_南宁铁路公安局_柳州铁路公安处基层所队民警</td>\n",
       "      <td>45.340</td>\n",
       "    </tr>\n",
       "    <tr>\n",
       "      <th>113050</th>\n",
       "      <td>新疆出入境边防检查总站_新疆出入境边防检查总站_红其拉甫出入境边防检查站一级警长及以下（二）</td>\n",
       "      <td>45.460</td>\n",
       "    </tr>\n",
       "    <tr>\n",
       "      <th>106476</th>\n",
       "      <td>国家金融监督管理总局安徽监管局_国家金融监督管理总局安庆监管分局岳西县级派出机构_综合部门一...</td>\n",
       "      <td>45.750</td>\n",
       "    </tr>\n",
       "    <tr>\n",
       "      <th>108010</th>\n",
       "      <td>国家金融监督管理总局广西监管局_国家金融监督管理总局贺州监管分局_财会部门一级主任科员及以下</td>\n",
       "      <td>45.850</td>\n",
       "    </tr>\n",
       "    <tr>\n",
       "      <th>105286</th>\n",
       "      <td>国家金融监督管理总局河北监管局_国家金融监督管理总局河北监管局辖内县级派出机构_综合部门一级...</td>\n",
       "      <td>46.075</td>\n",
       "    </tr>\n",
       "    <tr>\n",
       "      <th>113564</th>\n",
       "      <td>国家移民管理局东兴遣返中心_国家移民管理局东兴遣返中心_东兴遣返中心执行队一级警长及以下（一）</td>\n",
       "      <td>46.250</td>\n",
       "    </tr>\n",
       "    <tr>\n",
       "      <th>109139</th>\n",
       "      <td>国家金融监督管理总局新疆监管局_金融监管总局阿克苏监管分局_监管部门一级主任科员及以下</td>\n",
       "      <td>46.375</td>\n",
       "    </tr>\n",
       "    <tr>\n",
       "      <th>109169</th>\n",
       "      <td>国家金融监督管理总局新疆监管局_金融监管总局巴音郭楞监管分局_统计信息部门一级主任科员及以下</td>\n",
       "      <td>46.525</td>\n",
       "    </tr>\n",
       "    <tr>\n",
       "      <th>109099</th>\n",
       "      <td>国家金融监督管理总局新疆监管局_金融监管总局塔城监管分局和布克赛尔县级派出机构_监管部门一级...</td>\n",
       "      <td>46.575</td>\n",
       "    </tr>\n",
       "  </tbody>\n",
       "</table>\n",
       "</div>"
      ],
      "text/plain": [
       "                                           招录机关-用人司局-招考职位  最低面试分数\n",
       "108610     国家金融监督管理总局云南监管局_国家金融监督管理总局大理监管分局_财会部门一级主任科员及以下  45.250\n",
       "7395                        南宁铁路公安局_南宁铁路公安局_柳州铁路公安处基层所队民警  45.340\n",
       "113050     新疆出入境边防检查总站_新疆出入境边防检查总站_红其拉甫出入境边防检查站一级警长及以下（二）  45.460\n",
       "106476  国家金融监督管理总局安徽监管局_国家金融监督管理总局安庆监管分局岳西县级派出机构_综合部门一...  45.750\n",
       "108010     国家金融监督管理总局广西监管局_国家金融监督管理总局贺州监管分局_财会部门一级主任科员及以下  45.850\n",
       "105286  国家金融监督管理总局河北监管局_国家金融监督管理总局河北监管局辖内县级派出机构_综合部门一级...  46.075\n",
       "113564    国家移民管理局东兴遣返中心_国家移民管理局东兴遣返中心_东兴遣返中心执行队一级警长及以下（一）  46.250\n",
       "109139        国家金融监督管理总局新疆监管局_金融监管总局阿克苏监管分局_监管部门一级主任科员及以下  46.375\n",
       "109169     国家金融监督管理总局新疆监管局_金融监管总局巴音郭楞监管分局_统计信息部门一级主任科员及以下  46.525\n",
       "109099  国家金融监督管理总局新疆监管局_金融监管总局塔城监管分局和布克赛尔县级派出机构_监管部门一级...  46.575"
      ]
     },
     "execution_count": 19,
     "metadata": {},
     "output_type": "execute_result"
    }
   ],
   "source": [
    "# 取分数最低的10个岗位\n",
    "# 先排序，再分组，第一个head取每个组里的topN，第二个head取整个组的topN\n",
    "df_below_89[['招录机关-用人司局-招考职位','最低面试分数']]\\\n",
    "    .sort_values(by='最低面试分数', ascending=True)\\\n",
    "    .groupby('招录机关-用人司局-招考职位')\\\n",
    "    .head(1)\\\n",
    "    .head(10)"
   ]
  },
  {
   "cell_type": "code",
   "execution_count": 49,
   "metadata": {},
   "outputs": [
    {
     "data": {
      "text/plain": [
       "[('江苏', 63.08758536585365),\n",
       " ('浙江', 62.569803278688525),\n",
       " ('江西', 61.534659090909095),\n",
       " ('天津', 60.209364754098374),\n",
       " ('湖南', 59.938614649681526),\n",
       " ('四川', 59.699225663716824),\n",
       " ('北京', 59.67088486140726),\n",
       " ('广东', 59.521358543417364),\n",
       " ('重庆', 59.288492063492065),\n",
       " ('山西', 59.269492385786805)]"
      ]
     },
     "execution_count": 49,
     "metadata": {},
     "output_type": "execute_result"
    }
   ],
   "source": [
    "# 岗位分数与地区的分布（不考虑中央级别）\n",
    "# 地区数组\n",
    "regions = ['北京', '天津', '上海', '重庆', \n",
    "           '内蒙古', '广西', '西藏', '宁夏', '新疆', \n",
    "           '河北', '山西', '辽宁', '吉林', '黑龙江', '江苏', \n",
    "           '江西', '山东', '河南', '湖北', '湖南', '广东', \n",
    "           '海南', '四川', '贵州', '云南', '西藏', '陕西', \n",
    "           '甘肃', '青海', '浙江', '安徽', '福建']\n",
    "\n",
    "# 遍历每个地区，计算平均录取分数\n",
    "region_scores = {}\n",
    "for region in regions:\n",
    "    region_data = df_below_89[df_below_89['招录机关-用人司局-招考职位'].str.contains(region)]  # 筛选出特定地区的数据\n",
    "    average_score = region_data['最低面试分数'].mean()  # 计算平均录取分数\n",
    "    # print(f\"地区 {region} 的平均录取分数为 {average_score}\")\n",
    "    region_scores[region] = average_score\n",
    "sorted(region_scores.items(), key=lambda x: x[1], reverse=True)[:10]"
   ]
  },
  {
   "cell_type": "code",
   "execution_count": 48,
   "metadata": {},
   "outputs": [
    {
     "data": {
      "image/png": "[encoded data removed]",
      "text/plain": [
       "<Figure size 1500x1000 with 2 Axes>"
      ]
     },
     "metadata": {},
     "output_type": "display_data"
    }
   ],
   "source": [
    "# 读取中国地图数据\n",
    "# china_map = gpd.read_file(gpd.datasets.get_path('naturalearth_lowres'))\n",
    "china_map = gpd.read_file('https://geo.datav.aliyun.com/areas_v3/bound/100000_full.json').to_crs('EPSG:4573')\n",
    "\n",
    "# 获取地图数据中的地区名\n",
    "map_region_names = china_map['name'].tolist()\n",
    "\n",
    "# 模糊匹配地区名并添加分数到 GeoDataFrame\n",
    "scored_regions = []\n",
    "for input_region, score in region_scores.items():\n",
    "    matched_region, _ = process.extractOne(input_region, map_region_names)\n",
    "    scored_regions.append({'Region': matched_region, 'Score': score})\n",
    "\n",
    "df_scores = gpd.GeoDataFrame(scored_regions, columns=['Region', 'Score'])\n",
    "merged = china_map.merge(df_scores, how='left', left_on='name', right_on='Region')\n",
    "\n",
    "# 绘制地图\n",
    "fig, ax = plt.subplots(1, 1, figsize=(15, 10))\n",
    "merged.boundary.plot(ax=ax, linewidth=0.8)\n",
    "merged.plot(column='Score', ax=ax, legend=True, legend_kwds={'label': \"Score\"}, cmap='Blues', linewidth=0.8)\n",
    "\n",
    "# 在地图上标注分数值\n",
    "for x, y, label in zip(merged.geometry.centroid.x, merged.geometry.centroid.y, merged['Score']):\n",
    "   ax.text(x, y, f\"{round(label, 1)}\", fontsize=8, ha='center', va='center')\n",
    "\n",
    "plt.show()\n"
   ]
  },
  {
   "cell_type": "markdown",
   "metadata": {},
   "source": [
    "## 更多探索\n",
    "- 跟报名表数据匹配，增加职位属性、招考人数等信息，可进行文理科分析等功能"
   ]
  }
 ],
 "metadata": {
  "kernelspec": {
   "display_name": "Python 3",
   "language": "python",
   "name": "python3"
  },
  "language_info": {
   "codemirror_mode": {
    "name": "ipython",
    "version": 3
   },
   "file_extension": ".py",
   "mimetype": "text/x-python",
   "name": "python",
   "nbconvert_exporter": "python",
   "pygments_lexer": "ipython3",
   "version": "3.10.13"
  }
 },
 "nbformat": 4,
 "nbformat_minor": 2
}
