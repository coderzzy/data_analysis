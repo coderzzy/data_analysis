{
 "cells": [
  {
   "cell_type": "markdown",
   "metadata": {},
   "source": [
    "# 2023 国内各省市GDP的数据分析\n",
    "\n",
    "核心思路\n",
    "- GDP总体数据，国省市\n",
    "- 绝对值排名、增长排名\n",
    "- 各省市GDP增长动力分析\n",
    "- 跟GNP对比\n",
    "- 专题分析：共同富裕指标（参照论文的指标）\n",
    "    - 参考数据来源：中国统计年鉴、世界银行数据库..."
   ]
  },
  {
   "cell_type": "code",
   "execution_count": null,
   "metadata": {},
   "outputs": [],
   "source": []
  }
 ],
 "metadata": {
  "language_info": {
   "name": "python"
  }
 },
 "nbformat": 4,
 "nbformat_minor": 2
}
